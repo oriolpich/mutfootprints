{
 "cells": [
  {
   "cell_type": "code",
   "execution_count": null,
   "metadata": {},
   "outputs": [],
   "source": [
    "import pickle\n",
    "import gzip\n",
    "import sys\n",
    "sys.path.append('./src/')"
   ]
  },
  {
   "cell_type": "code",
   "execution_count": null,
   "metadata": {},
   "outputs": [],
   "source": [
    "%load_ext autoreload\n",
    "%autoreload 2"
   ]
  },
  {
   "cell_type": "code",
   "execution_count": null,
   "metadata": {},
   "outputs": [],
   "source": [
    "# unpickle signatures\n",
    "\n",
    "with gzip.open('./data/signatures.pickle.gz', 'rb') as f:\n",
    "    signatures = pickle.load(f)"
   ]
  },
  {
   "cell_type": "code",
   "execution_count": null,
   "metadata": {},
   "outputs": [],
   "source": [
    "# unpickle synthetic data instances\n",
    "\n",
    "with gzip.open('./data/synthetic_b.pickle.gz', 'rb') as f:\n",
    "    synthetic_b = pickle.load(f)\n",
    "    \n",
    "with gzip.open('./data/synthetic_blc.pickle.gz', 'rb') as f:\n",
    "    synthetic_blc = pickle.load(f)"
   ]
  },
  {
   "cell_type": "markdown",
   "metadata": {},
   "source": [
    "## run signature analyzer"
   ]
  },
  {
   "cell_type": "raw",
   "metadata": {},
   "source": [
    "qmap submit -r 10 ./map_files/breast.map\n",
    "\n",
    "qmap submit -r 10 ./map_files/breastlungcolon.map"
   ]
  },
  {
   "cell_type": "markdown",
   "metadata": {},
   "source": [
    "## analysis of signatures recovered"
   ]
  },
  {
   "cell_type": "code",
   "execution_count": null,
   "metadata": {},
   "outputs": [],
   "source": [
    "from plots import scatter_cosine"
   ]
  },
  {
   "cell_type": "code",
   "execution_count": null,
   "metadata": {},
   "outputs": [],
   "source": [
    "# breast\n",
    "\n",
    "folder = './data/deconstruction/breast'\n",
    "scatter_cosine(['SBS9', 'SBS31'], signatures, folder, 'Breast')"
   ]
  },
  {
   "cell_type": "code",
   "execution_count": null,
   "metadata": {},
   "outputs": [],
   "source": [
    "# breast-lung-colon\n",
    "\n",
    "folder = './data/deconstruction/breastlungcolon'\n",
    "scatter_cosine(['SBS9', 'SBS31'], signatures, folder, 'Breast-Lung-Colon')"
   ]
  },
  {
   "cell_type": "code",
   "execution_count": null,
   "metadata": {},
   "outputs": [],
   "source": []
  }
 ],
 "metadata": {
  "kernelspec": {
   "display_name": "Python [conda env:saturation_boostdm]",
   "language": "python",
   "name": "conda-env-saturation_boostdm-py"
  },
  "language_info": {
   "codemirror_mode": {
    "name": "ipython",
    "version": 3
   },
   "file_extension": ".py",
   "mimetype": "text/x-python",
   "name": "python",
   "nbconvert_exporter": "python",
   "pygments_lexer": "ipython3",
   "version": "3.7.3"
  }
 },
 "nbformat": 4,
 "nbformat_minor": 4
}
