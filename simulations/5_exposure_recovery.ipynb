{
 "cells": [
  {
   "cell_type": "code",
   "execution_count": null,
   "metadata": {},
   "outputs": [],
   "source": [
    "import os\n",
    "import pickle\n",
    "import gzip\n",
    "import sys\n",
    "sys.path.append('./src/')"
   ]
  },
  {
   "cell_type": "code",
   "execution_count": null,
   "metadata": {},
   "outputs": [],
   "source": [
    "%load_ext autoreload\n",
    "%autoreload 2"
   ]
  },
  {
   "cell_type": "code",
   "execution_count": null,
   "metadata": {},
   "outputs": [],
   "source": [
    "# unpickle signatures\n",
    "\n",
    "with gzip.open('./data/signatures.pickle.gz', 'rb') as f:\n",
    "    signatures = pickle.load(f)"
   ]
  },
  {
   "cell_type": "markdown",
   "metadata": {},
   "source": [
    "## exposure recovery in treated (injected) samples"
   ]
  },
  {
   "cell_type": "code",
   "execution_count": null,
   "metadata": {},
   "outputs": [],
   "source": [
    "from plots import plot_exposure_recovery"
   ]
  },
  {
   "cell_type": "code",
   "execution_count": null,
   "metadata": {},
   "outputs": [],
   "source": [
    "def generate_exposure_recovery(sig, tumor_type, **kwargs):\n",
    "    \n",
    "    catalogue_folder = os.path.join('./data', tumor_type)\n",
    "    deconstruction_folder = os.path.join('./data/deconstruction', tumor_type)\n",
    "    for n_treated in [10, 25, 50, 100, 150]:\n",
    "        plot_exposure_recovery(sig, tumor_type, n_treated, signatures, catalogue_folder, deconstruction_folder)    "
   ]
  },
  {
   "cell_type": "code",
   "execution_count": null,
   "metadata": {},
   "outputs": [],
   "source": [
    "generate_exposure_recovery('SBS9', 'breast')\n",
    "generate_exposure_recovery('SBS9', 'breastlungcolon')\n",
    "generate_exposure_recovery('SBS31', 'breast')\n",
    "generate_exposure_recovery('SBS31', 'breastlungcolon')"
   ]
  },
  {
   "cell_type": "markdown",
   "metadata": {},
   "source": [
    "## relative residuals"
   ]
  },
  {
   "cell_type": "code",
   "execution_count": null,
   "metadata": {},
   "outputs": [],
   "source": [
    "from plots import scatter_error"
   ]
  },
  {
   "cell_type": "code",
   "execution_count": null,
   "metadata": {},
   "outputs": [],
   "source": [
    "def generate_scatter_error(sig, tumor_type, **kwargs):\n",
    "    \n",
    "    catalogue_folder = os.path.join('./data', tumor_type)\n",
    "    deconstruction_folder = os.path.join('./data/deconstruction', tumor_type)\n",
    "    scatter_error(sig, signatures, catalogue_folder, deconstruction_folder, **kwargs)"
   ]
  },
  {
   "cell_type": "code",
   "execution_count": null,
   "metadata": {},
   "outputs": [],
   "source": [
    "option='relative_residual'\n",
    "generate_scatter_error('SBS9', 'breast', option=option)\n",
    "generate_scatter_error('SBS9', 'breastlungcolon', option=option)\n",
    "generate_scatter_error('SBS31', 'breast', option=option)\n",
    "generate_scatter_error('SBS31', 'breastlungcolon', option=option)"
   ]
  },
  {
   "cell_type": "markdown",
   "metadata": {},
   "source": [
    "## concordance"
   ]
  },
  {
   "cell_type": "code",
   "execution_count": null,
   "metadata": {},
   "outputs": [],
   "source": [
    "option = 'concordance'\n",
    "generate_scatter_error('SBS9', 'breast', option=option)\n",
    "generate_scatter_error('SBS9', 'breastlungcolon', option=option)\n",
    "generate_scatter_error('SBS31', 'breast', option=option)\n",
    "generate_scatter_error('SBS31', 'breastlungcolon', option=option)"
   ]
  },
  {
   "cell_type": "markdown",
   "metadata": {},
   "source": [
    "## average exposure vs average injected in non-treated samples"
   ]
  },
  {
   "cell_type": "code",
   "execution_count": null,
   "metadata": {},
   "outputs": [],
   "source": [
    "from plots import average_exposure_vs_average_injected_nontreated"
   ]
  },
  {
   "cell_type": "code",
   "execution_count": null,
   "metadata": {},
   "outputs": [],
   "source": [
    "def generate_exposure_vs_injected_plot(sig, tumor_type):\n",
    "    \n",
    "    catalogue_folder = os.path.join('./data', tumor_type)\n",
    "    deconstruction_folder = os.path.join('./data/deconstruction', tumor_type)\n",
    "    average_exposure_vs_average_injected_nontreated(sig, tumor_type, signatures, catalogue_folder, deconstruction_folder)"
   ]
  },
  {
   "cell_type": "code",
   "execution_count": null,
   "metadata": {},
   "outputs": [],
   "source": [
    "generate_exposure_vs_injected_plot('SBS9', 'breast')\n",
    "generate_exposure_vs_injected_plot('SBS9', 'breastlungcolon')\n",
    "generate_exposure_vs_injected_plot('SBS31', 'breast')\n",
    "generate_exposure_vs_injected_plot('SBS31', 'breastlungcolon')"
   ]
  },
  {
   "cell_type": "code",
   "execution_count": null,
   "metadata": {},
   "outputs": [],
   "source": []
  }
 ],
 "metadata": {
  "kernelspec": {
   "display_name": "Python [conda env:saturation_boostdm]",
   "language": "python",
   "name": "conda-env-saturation_boostdm-py"
  },
  "language_info": {
   "codemirror_mode": {
    "name": "ipython",
    "version": 3
   },
   "file_extension": ".py",
   "mimetype": "text/x-python",
   "name": "python",
   "nbconvert_exporter": "python",
   "pygments_lexer": "ipython3",
   "version": "3.7.3"
  }
 },
 "nbformat": 4,
 "nbformat_minor": 4
}
