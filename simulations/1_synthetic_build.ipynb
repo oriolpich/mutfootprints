{
 "cells": [
  {
   "cell_type": "code",
   "execution_count": null,
   "metadata": {},
   "outputs": [],
   "source": [
    "import pickle\n",
    "import gzip\n",
    "import sys\n",
    "sys.path.append('./src')\n",
    "\n",
    "import numpy as np\n",
    "import pandas as pd"
   ]
  },
  {
   "cell_type": "code",
   "execution_count": null,
   "metadata": {},
   "outputs": [],
   "source": [
    "%load_ext autoreload\n",
    "%autoreload 2"
   ]
  },
  {
   "cell_type": "markdown",
   "metadata": {},
   "source": [
    "## preprocessing"
   ]
  },
  {
   "cell_type": "code",
   "execution_count": null,
   "metadata": {},
   "outputs": [],
   "source": [
    "from load_preprocess import load_preprocess_sa, load_preprocess_sp\n",
    "\n",
    "# load and preprocess SignatureAnalyzer signatures and activities\n",
    "\n",
    "signatures_SA, activities_SA, signatures_SA_dict = load_preprocess_sa()\n",
    "\n",
    "# load and preprocess SigProfiler signatures\n",
    "\n",
    "signatures_SP, signatures_SP_dict = load_preprocess_sp()\n",
    "\n",
    "# pool signatures from both catalogues\n",
    "\n",
    "signatures = pd.concat([signatures_SA, signatures_SP.loc[:, [c for c in signatures_SP.columns if c not in signatures_SA.columns]]], axis=1, sort=False)\n",
    "\n",
    "# tumor type iterable\n",
    "\n",
    "tumor_types = np.unique(list(map(lambda x: x.split('__')[0], activities_SA.columns)))"
   ]
  },
  {
   "cell_type": "code",
   "execution_count": null,
   "metadata": {},
   "outputs": [],
   "source": [
    "with gzip.open('./data/signatures.pickle.gz', 'wb') as f:\n",
    "    pickle.dump(signatures, f)"
   ]
  },
  {
   "cell_type": "markdown",
   "metadata": {},
   "source": [
    "## get tables of activities reconstructed by SignatureAnalyzer"
   ]
  },
  {
   "cell_type": "code",
   "execution_count": null,
   "metadata": {},
   "outputs": [],
   "source": [
    "from load_preprocess import retrieve_activities"
   ]
  },
  {
   "cell_type": "code",
   "execution_count": null,
   "metadata": {},
   "outputs": [],
   "source": [
    "# breast-lung-colon mixed cohorts activities\n",
    "\n",
    "tumor_types = ['Breast_AdenoCA', 'Lung_AdenoCA', 'ColoRect_AdenoCA']\n",
    "breastlungcolon = retrieve_activities(tumor_types, activities_SA, signatures)"
   ]
  },
  {
   "cell_type": "code",
   "execution_count": null,
   "metadata": {},
   "outputs": [],
   "source": [
    "# breast cohort activities\n",
    "\n",
    "breast = retrieve_activities(['Breast_AdenoCA'], activities_SA, signatures)"
   ]
  },
  {
   "cell_type": "markdown",
   "metadata": {},
   "source": [
    "## plot injected profiles"
   ]
  },
  {
   "cell_type": "code",
   "execution_count": null,
   "metadata": {},
   "outputs": [],
   "source": [
    "from plots import plot_profiles"
   ]
  },
  {
   "cell_type": "code",
   "execution_count": null,
   "metadata": {},
   "outputs": [],
   "source": [
    "# Example SBS9\n",
    "# Replace the first argument with the signature label of choice\n",
    "\n",
    "plot_profiles('SBS9', signatures_SA_dict, ymax=0.2)"
   ]
  },
  {
   "cell_type": "code",
   "execution_count": null,
   "metadata": {},
   "outputs": [],
   "source": [
    "# Example SBS31\n",
    "\n",
    "plot_profiles('SBS31', signatures_SP_dict, ymax=0.2)"
   ]
  },
  {
   "cell_type": "markdown",
   "metadata": {},
   "source": [
    "## plot burden distributions"
   ]
  },
  {
   "cell_type": "code",
   "execution_count": null,
   "metadata": {},
   "outputs": [],
   "source": [
    "from plots import plot_burden_distribution"
   ]
  },
  {
   "cell_type": "code",
   "execution_count": null,
   "metadata": {},
   "outputs": [],
   "source": [
    "plot_burden_distribution(breast, breastlungcolon)"
   ]
  },
  {
   "cell_type": "markdown",
   "metadata": {},
   "source": [
    "## build synthetic datasets"
   ]
  },
  {
   "cell_type": "code",
   "execution_count": null,
   "metadata": {},
   "outputs": [],
   "source": [
    "from synthetic import Synthetic, generate_synthetic_data"
   ]
  },
  {
   "cell_type": "code",
   "execution_count": null,
   "metadata": {},
   "outputs": [],
   "source": [
    "%%capture\n",
    "synthetic_blc = Synthetic(breastlungcolon, signatures)\n",
    "synthetic_b   = Synthetic(breast, signatures)"
   ]
  },
  {
   "cell_type": "code",
   "execution_count": null,
   "metadata": {},
   "outputs": [],
   "source": [
    "with gzip.open('./data/synthetic_b.pickle.gz', 'wb') as f:\n",
    "    pickle.dump(synthetic_b, f)\n",
    "with gzip.open('./data/synthetic_blc.pickle.gz', 'wb') as f:\n",
    "    pickle.dump(synthetic_blc, f)"
   ]
  },
  {
   "cell_type": "code",
   "execution_count": null,
   "metadata": {},
   "outputs": [],
   "source": [
    "# breast\n",
    "\n",
    "generate_synthetic_data(synthetic_b, './data/breast/')"
   ]
  },
  {
   "cell_type": "code",
   "execution_count": null,
   "metadata": {},
   "outputs": [],
   "source": [
    "# breast-lung-colon\n",
    "\n",
    "generate_synthetic_data(synthetic_blc, './data/breastlungcolon/')"
   ]
  }
 ],
 "metadata": {
  "kernelspec": {
   "display_name": "Python [conda env:saturation_boostdm]",
   "language": "python",
   "name": "conda-env-saturation_boostdm-py"
  },
  "language_info": {
   "codemirror_mode": {
    "name": "ipython",
    "version": 3
   },
   "file_extension": ".py",
   "mimetype": "text/x-python",
   "name": "python",
   "nbconvert_exporter": "python",
   "pygments_lexer": "ipython3",
   "version": "3.7.3"
  }
 },
 "nbformat": 4,
 "nbformat_minor": 4
}
