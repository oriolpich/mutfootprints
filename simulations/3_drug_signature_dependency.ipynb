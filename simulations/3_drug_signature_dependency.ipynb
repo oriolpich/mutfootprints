{
 "cells": [
  {
   "cell_type": "code",
   "execution_count": null,
   "metadata": {},
   "outputs": [],
   "source": [
    "import os\n",
    "import gzip\n",
    "import pickle\n",
    "import sys\n",
    "sys.path.append('./src/')"
   ]
  },
  {
   "cell_type": "code",
   "execution_count": null,
   "metadata": {},
   "outputs": [],
   "source": [
    "%load_ext autoreload\n",
    "%autoreload 2"
   ]
  },
  {
   "cell_type": "markdown",
   "metadata": {},
   "source": [
    "## shuffle treatment labels"
   ]
  },
  {
   "cell_type": "code",
   "execution_count": null,
   "metadata": {},
   "outputs": [],
   "source": [
    "%%bash\n",
    "\n",
    "bash ./src/treatment_shuffle.sh"
   ]
  },
  {
   "cell_type": "markdown",
   "metadata": {},
   "source": [
    "## conduct logistic regression"
   ]
  },
  {
   "cell_type": "raw",
   "metadata": {},
   "source": [
    "qmap submit ./map_files/regression.map"
   ]
  },
  {
   "cell_type": "markdown",
   "metadata": {},
   "source": [
    "## load signatures"
   ]
  },
  {
   "cell_type": "code",
   "execution_count": null,
   "metadata": {},
   "outputs": [],
   "source": [
    "# unpickle signatures table\n",
    "\n",
    "with gzip.open('./data/signatures.pickle.gz', 'rb') as f:\n",
    "    signatures = pickle.load(f)"
   ]
  },
  {
   "cell_type": "markdown",
   "metadata": {},
   "source": [
    "## plot treatment signature dependencies: mean log-odds-ratio"
   ]
  },
  {
   "cell_type": "code",
   "execution_count": null,
   "metadata": {},
   "outputs": [],
   "source": [
    "from plots import plot_lor_mean"
   ]
  },
  {
   "cell_type": "code",
   "execution_count": null,
   "metadata": {},
   "outputs": [],
   "source": [
    "for tumor_type in ['breast', 'breastlungcolon']:\n",
    "    regression_folder = os.path.join('./data/regression', tumor_type)\n",
    "    deconstruction_folder = os.path.join('./data/deconstruction', tumor_type)\n",
    "    for sig in ['SBS9', 'SBS31']:\n",
    "        plot_lor_mean(sig, signatures, regression_folder, deconstruction_folder, shuffle=None)\n",
    "        # change shuffle = 5, 10 or 20 to generate shuffled data plots"
   ]
  },
  {
   "cell_type": "markdown",
   "metadata": {},
   "source": [
    "## plot treatment signature dependencies: significance"
   ]
  },
  {
   "cell_type": "code",
   "execution_count": null,
   "metadata": {},
   "outputs": [],
   "source": [
    "from plots import plot_lor_significance"
   ]
  },
  {
   "cell_type": "code",
   "execution_count": null,
   "metadata": {},
   "outputs": [],
   "source": [
    "for tumor_type in ['breast', 'breastlungcolon']:\n",
    "    regression_folder = os.path.join('./data/regression', tumor_type)\n",
    "    deconstruction_folder = os.path.join('./data/deconstruction', tumor_type)\n",
    "    for sig in ['SBS9', 'SBS31']:\n",
    "        plot_lor_significance(sig, signatures, regression_folder, deconstruction_folder, shuffle=None)\n",
    "        # change shuffle = 5, 10 or 20 to generate shuffled data plots"
   ]
  },
  {
   "cell_type": "markdown",
   "metadata": {},
   "source": [
    "## plot treatment signature dependencies: effect size"
   ]
  },
  {
   "cell_type": "code",
   "execution_count": null,
   "metadata": {},
   "outputs": [],
   "source": [
    "from plots import plot_fold_change"
   ]
  },
  {
   "cell_type": "code",
   "execution_count": null,
   "metadata": {},
   "outputs": [],
   "source": [
    "for tumor_type in ['breast', 'breastlungcolon']:\n",
    "    regression_folder = os.path.join('./data/regression', tumor_type)\n",
    "    deconstruction_folder = os.path.join('./data/deconstruction', tumor_type)\n",
    "    for sig in ['SBS9', 'SBS31']:\n",
    "        plot_fold_change(sig, signatures, regression_folder, deconstruction_folder, shuffle=None)\n",
    "        # change shuffle = 5, 10 or 20 to generate shuffled data plots"
   ]
  },
  {
   "cell_type": "markdown",
   "metadata": {},
   "source": [
    "## volcano plots"
   ]
  },
  {
   "cell_type": "code",
   "execution_count": null,
   "metadata": {},
   "outputs": [],
   "source": [
    "from plots import plot_volcano_panel"
   ]
  },
  {
   "cell_type": "code",
   "execution_count": null,
   "metadata": {},
   "outputs": [],
   "source": [
    "for tumor_type in ['breast', 'breastlungcolon']:\n",
    "    regression_folder = os.path.join('./data/regression', tumor_type)\n",
    "    deconstruction_folder = os.path.join('./data/deconstruction', tumor_type)\n",
    "    for sig in ['SBS9', 'SBS31']:\n",
    "        plot_volcano_panel(sig, signatures, regression_folder, deconstruction_folder)"
   ]
  },
  {
   "cell_type": "markdown",
   "metadata": {},
   "source": [
    "### introducing 5% shuffle..."
   ]
  },
  {
   "cell_type": "code",
   "execution_count": null,
   "metadata": {},
   "outputs": [],
   "source": [
    "for tumor_type in ['breast', 'breastlungcolon']:\n",
    "    regression_folder = os.path.join('./data/regression', tumor_type)\n",
    "    deconstruction_folder = os.path.join('./data/deconstruction', tumor_type)\n",
    "    for sig in ['SBS9', 'SBS31']:\n",
    "        plot_volcano_panel(sig, signatures, regression_folder, deconstruction_folder, shuffle=5)"
   ]
  },
  {
   "cell_type": "markdown",
   "metadata": {},
   "source": [
    "### introducing 10% shuffle..."
   ]
  },
  {
   "cell_type": "code",
   "execution_count": null,
   "metadata": {},
   "outputs": [],
   "source": [
    "for tumor_type in ['breast', 'breastlungcolon']:\n",
    "    regression_folder = os.path.join('./data/regression', tumor_type)\n",
    "    deconstruction_folder = os.path.join('./data/deconstruction', tumor_type)\n",
    "    for sig in ['SBS9', 'SBS31']:\n",
    "        plot_volcano_panel(sig, signatures, regression_folder, deconstruction_folder, shuffle=10)"
   ]
  },
  {
   "cell_type": "markdown",
   "metadata": {},
   "source": [
    "### introducing 20% shuffle..."
   ]
  },
  {
   "cell_type": "code",
   "execution_count": null,
   "metadata": {},
   "outputs": [],
   "source": [
    "for tumor_type in ['breast', 'breastlungcolon']:\n",
    "    regression_folder = os.path.join('./data/regression', tumor_type)\n",
    "    deconstruction_folder = os.path.join('./data/deconstruction', tumor_type)\n",
    "    for sig in ['SBS9', 'SBS31']:\n",
    "        plot_volcano_panel(sig, signatures, regression_folder, deconstruction_folder, shuffle=20)"
   ]
  }
 ],
 "metadata": {
  "kernelspec": {
   "display_name": "Python [conda env:saturation_boostdm]",
   "language": "python",
   "name": "conda-env-saturation_boostdm-py"
  },
  "language_info": {
   "codemirror_mode": {
    "name": "ipython",
    "version": 3
   },
   "file_extension": ".py",
   "mimetype": "text/x-python",
   "name": "python",
   "nbconvert_exporter": "python",
   "pygments_lexer": "ipython3",
   "version": "3.7.3"
  }
 },
 "nbformat": 4,
 "nbformat_minor": 4
}
