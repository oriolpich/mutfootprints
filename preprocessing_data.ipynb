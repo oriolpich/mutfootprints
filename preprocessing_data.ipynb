{
 "cells": [
  {
   "cell_type": "markdown",
   "metadata": {},
   "source": [
    "# Preprocessing"
   ]
  },
  {
   "cell_type": "markdown",
   "metadata": {},
   "source": [
    "This notebook contains instructions to obtain all the needed files to reproduce the paper analyses."
   ]
  },
  {
   "cell_type": "markdown",
   "metadata": {},
   "source": [
    "### Mappability"
   ]
  },
  {
   "cell_type": "markdown",
   "metadata": {},
   "source": [
    "<div class=\"alert alert-block alert-warning\">\n",
    "<b>Warning:</b> It will take some time.\n",
    "</div>"
   ]
  },
  {
   "cell_type": "code",
   "execution_count": null,
   "metadata": {
    "collapsed": true
   },
   "outputs": [],
   "source": [
    "%%bash\n",
    "\n",
    "# you should always activate the environment before running the different scripts. We won't be including it anymore\n",
    "conda activate mutfootprints\n",
    "bash src/mappability/get_Duke_CRG_mappability.sh"
   ]
  },
  {
   "cell_type": "markdown",
   "metadata": {},
   "source": [
    "#### Follow the instructions to obtain the low complexity regions: \n",
    "    \n",
    "* In the [table browser](https://genome.ucsc.edu/cgi-bin/hgTables) select the following items:\n",
    "    - assembly: **hg19**\n",
    "    - group: **Repeats**\n",
    "    - track: **RepeatMasker** \n",
    "    - table: **rmsk** \n",
    "    - region: **genome**\n",
    "    - filter: click on \"create\". After \"repClass does\", paste in: 'Low_complexity' (to get this value click on \"describe table schema\" on the main table browser page for the table you are interested in.) \n",
    "    \n",
    "* Click \"submit\".\n",
    "    - output format: BED format (option Create one BED record per: Whole Gene, the one by default)\n",
    "    \n",
    "* Click \"compress with gzip\", and save it as: `hg19_low_complexity_regions.gz`\n",
    "    \n",
    "* Store the file in `data/mappability`"
   ]
  },
  {
   "cell_type": "code",
   "execution_count": null,
   "metadata": {
    "collapsed": true
   },
   "outputs": [],
   "source": [
    "%%bash\n",
    "\n",
    "bash src/mappability/merge_files.sh"
   ]
  },
  {
   "cell_type": "markdown",
   "metadata": {},
   "source": [
    "### Transcription"
   ]
  },
  {
   "cell_type": "code",
   "execution_count": null,
   "metadata": {
    "collapsed": true
   },
   "outputs": [],
   "source": [
    "%%bash \n",
    "\n",
    "bash src/format/transcription/transcription_annotation.sh"
   ]
  },
  {
   "cell_type": "markdown",
   "metadata": {},
   "source": [
    "### Replication domains"
   ]
  },
  {
   "cell_type": "markdown",
   "metadata": {},
   "source": [
    "1) Download AsymTools-1.0.3 from the [Broad Institute](https://software.broadinstitute.org/cancer/cga/asymtools) and put it in data/asymmetry_files\n",
    "\n",
    "2) Extract the file:\n",
    "``` unzip AsymTools-1.0.3.zip ```\n",
    "\n",
    "3) Execute the `mat2py` python script"
   ]
  },
  {
   "cell_type": "code",
   "execution_count": null,
   "metadata": {
    "collapsed": true
   },
   "outputs": [],
   "source": [
    "%%bash\n",
    "\n",
    "python src/format/replication_domains/mat2py.py \\\n",
    "    --input_mat data/asymmetry_files/AsymTools-1.0.3/reference/per_base_territories_20kb.mat \\\n",
    "    --output_bed data/asymmetry_files/replication_domain_20kb.bed.gz"
   ]
  },
  {
   "cell_type": "markdown",
   "metadata": {},
   "source": [
    "### Prepare files for bcftools"
   ]
  },
  {
   "cell_type": "code",
   "execution_count": null,
   "metadata": {
    "collapsed": true
   },
   "outputs": [],
   "source": [
    "%%bash\n",
    "\n",
    "bash src/format/left_annotate/prepare_bcftools_hg19.sh"
   ]
  }
 ],
 "metadata": {
  "kernelspec": {
   "display_name": "Python [conda env:mutfootprints]",
   "language": "python",
   "name": "conda-env-mutfootprints-py"
  },
  "language_info": {
   "codemirror_mode": {
    "name": "ipython",
    "version": 3
   },
   "file_extension": ".py",
   "mimetype": "text/x-python",
   "name": "python",
   "nbconvert_exporter": "python",
   "pygments_lexer": "ipython3",
   "version": "3.7.3"
  },
  "toc": {
   "nav_menu": {},
   "number_sections": true,
   "sideBar": true,
   "skip_h1_title": false,
   "title_cell": "Table of Contents",
   "title_sidebar": "Contents",
   "toc_cell": false,
   "toc_position": {},
   "toc_section_display": true,
   "toc_window_display": false
  }
 },
 "nbformat": 4,
 "nbformat_minor": 2
}
