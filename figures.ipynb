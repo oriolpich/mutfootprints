{
 "cells": [
  {
   "cell_type": "markdown",
   "metadata": {},
   "source": [
    "# Main Figures"
   ]
  },
  {
   "cell_type": "markdown",
   "metadata": {},
   "source": [
    "## Figure 1"
   ]
  },
  {
   "cell_type": "markdown",
   "metadata": {},
   "source": [
    "- Figure 1B is generated [here](<http://nbviewer.jupyter.org/urls/bitbucket.org/bbglab/mutfootprints/raw/master/drugs_preprocessing.ipynb>)"
   ]
  },
  {
   "cell_type": "markdown",
   "metadata": {},
   "source": [
    "## Figure 2"
   ]
  },
  {
   "cell_type": "markdown",
   "metadata": {},
   "source": [
    "- Figure 2A is generated [here](<http://nbviewer.jupyter.org/urls/bitbucket.org/bbglab/mutfootprints/raw/master/drugs_preprocessing.ipynb>)\n",
    "\n",
    "\n",
    "- Figure 2C is generated  [here](<http://nbviewer.jupyter.org/urls/bitbucket.org/bbglab/mutfootprints/raw/master/regression.ipynb>)"
   ]
  },
  {
   "cell_type": "markdown",
   "metadata": {},
   "source": [
    "## Figure 3"
   ]
  },
  {
   "cell_type": "markdown",
   "metadata": {},
   "source": [
    "- Figure 3A and 3B are generated [here](<http://nbviewer.jupyter.org/urls/bitbucket.org/bbglab/mutfootprints/raw/master/signature_extraction.ipynb>)\n",
    "\n",
    "\n",
    "- Figure 3C is generated  [here](<http://nbviewer.jupyter.org/urls/bitbucket.org/bbglab/mutfootprints/raw/master/leishmania_data_and_variant_calling.ipynb>)"
   ]
  },
  {
   "cell_type": "markdown",
   "metadata": {},
   "source": [
    "## Figure 4\n"
   ]
  },
  {
   "cell_type": "markdown",
   "metadata": {},
   "source": [
    "- Figure 4A and 4B are generated [here](<http://nbviewer.jupyter.org/urls/bitbucket.org/bbglab/mutfootprints/raw/master/timing_analysis.ipynb>)\n",
    "\n",
    "\n",
    "- Figure 4C is generated  [here](<http://nbviewer.jupyter.org/urls/bitbucket.org/bbglab/mutfootprints/raw/master/regression.ipynb>)"
   ]
  },
  {
   "cell_type": "markdown",
   "metadata": {},
   "source": [
    "## Figure 5"
   ]
  },
  {
   "cell_type": "markdown",
   "metadata": {},
   "source": [
    "- Figures 5A and 5B are generated [here](<http://nbviewer.jupyter.org/urls/bitbucket.org/bbglab/mutfootprints/raw/master/mutational_toxicity.ipynb>)\n"
   ]
  },
  {
   "cell_type": "markdown",
   "metadata": {},
   "source": [
    "## Figure 6"
   ]
  },
  {
   "cell_type": "markdown",
   "metadata": {},
   "source": [
    "- Figures 6A, 6B and 6C are generated [here](<http://nbviewer.jupyter.org/urls/bitbucket.org/bbglab/mutfootprints/raw/master/mutational_toxicity.ipynb>)\n"
   ]
  },
  {
   "cell_type": "markdown",
   "metadata": {},
   "source": [
    "# Extended Data Figures (EDF)"
   ]
  },
  {
   "cell_type": "markdown",
   "metadata": {},
   "source": [
    "## EDF 1"
   ]
  },
  {
   "cell_type": "markdown",
   "metadata": {},
   "source": [
    "- EDF 1A and 1B are generated [here](<http://nbviewer.jupyter.org/urls/bitbucket.org/bbglab/mutfootprints/raw/master/drugs_preprocessing.ipynb>)"
   ]
  },
  {
   "cell_type": "markdown",
   "metadata": {},
   "source": [
    "## EDF 2"
   ]
  },
  {
   "cell_type": "markdown",
   "metadata": {},
   "source": [
    "- EDF 2A is genereated [here](<http://nbviewer.jupyter.org/urls/bitbucket.org/bbglab/mutfootprints/raw/master/regression.ipynb>)\n",
    "\n",
    "\n",
    "- EDF 2B is genereated [here](<http://nbviewer.jupyter.org/urls/bitbucket.org/bbglab/mutfootprints/raw/master/signature_extraction.ipynb>)\n",
    "\n",
    "\n",
    "- EDF 2C is genereated [here](<http://nbviewer.jupyter.org/urls/bitbucket.org/bbglab/mutfootprints/raw/master/signature_extraction.ipynb>)"
   ]
  },
  {
   "cell_type": "markdown",
   "metadata": {},
   "source": [
    "## EDF 3"
   ]
  },
  {
   "cell_type": "markdown",
   "metadata": {},
   "source": [
    "- EDF 3A is genereated [here](<http://nbviewer.jupyter.org/urls/bitbucket.org/bbglab/mutfootprints/raw/master/signature_mixing.ipynb>)"
   ]
  },
  {
   "cell_type": "markdown",
   "metadata": {},
   "source": [
    "## EDF 4"
   ]
  },
  {
   "cell_type": "markdown",
   "metadata": {},
   "source": [
    "- EDF 4A and 4B are genereated [here](<http://nbviewer.jupyter.org/urls/bitbucket.org/bbglab/mutfootprints/raw/master/extended_figures.ipynb>)\n"
   ]
  },
  {
   "cell_type": "markdown",
   "metadata": {},
   "source": [
    "## EDF 5"
   ]
  },
  {
   "cell_type": "markdown",
   "metadata": {},
   "source": [
    "- EDF 5B and 5D are genereated [here](<http://nbviewer.jupyter.org/urls/bitbucket.org/bbglab/mutfootprints/raw/master/extended_figures.ipynb>)"
   ]
  },
  {
   "cell_type": "markdown",
   "metadata": {},
   "source": [
    "## EDF 6"
   ]
  },
  {
   "cell_type": "markdown",
   "metadata": {},
   "source": [
    "- EDF 6A is genereated [here](<http://nbviewer.jupyter.org/urls/bitbucket.org/bbglab/mutfootprints/raw/master/extended_figures.ipynb>)\n",
    "\n",
    "\n",
    "- EDF 6B, 6C are genereated [here](<http://nbviewer.jupyter.org/urls/bitbucket.org/bbglab/mutfootprints/raw/master/timing_analysis.ipynb>)\n",
    "\n",
    "\n",
    "- EDF 6D, 6E, 6F, 6G are genereated [here](<http://nbviewer.jupyter.org/urls/bitbucket.org/bbglab/mutfootprints/raw/master/regression.ipynb>)"
   ]
  },
  {
   "cell_type": "markdown",
   "metadata": {},
   "source": [
    "## EDF 7"
   ]
  },
  {
   "cell_type": "markdown",
   "metadata": {},
   "source": [
    "- EDF 7 is genereated [here](<http://nbviewer.jupyter.org/urls/bitbucket.org/bbglab/mutfootprints/raw/master/mutational_toxicity.ipynb>)\n"
   ]
  },
  {
   "cell_type": "markdown",
   "metadata": {},
   "source": [
    "## EDF 8,9,10\n",
    "\n"
   ]
  },
  {
   "cell_type": "markdown",
   "metadata": {},
   "source": [
    "- All figures are generated [here](<http://nbviewer.jupyter.org/urls/bitbucket.org/bbglab/mutfootprints/raw/master/mutational_toxicity.ipynb>)\n",
    "    "
   ]
  }
 ],
 "metadata": {
  "kernelspec": {
   "display_name": "Python [conda env:mutfootprints]",
   "language": "python",
   "name": "conda-env-mutfootprints-py"
  },
  "language_info": {
   "codemirror_mode": {
    "name": "ipython",
    "version": 3
   },
   "file_extension": ".py",
   "mimetype": "text/x-python",
   "name": "python",
   "nbconvert_exporter": "python",
   "pygments_lexer": "ipython3",
   "version": "3.7.3"
  },
  "toc": {
   "nav_menu": {},
   "number_sections": true,
   "sideBar": true,
   "skip_h1_title": false,
   "title_cell": "Table of Contents",
   "title_sidebar": "Contents",
   "toc_cell": false,
   "toc_position": {},
   "toc_section_display": true,
   "toc_window_display": false
  },
  "pycharm": {
   "stem_cell": {
    "cell_type": "raw",
    "source": [],
    "metadata": {
     "collapsed": false
    }
   }
  }
 },
 "nbformat": 4,
 "nbformat_minor": 2
}