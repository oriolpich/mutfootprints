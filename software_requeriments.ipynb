{
 "cells": [
  {
   "cell_type": "markdown",
   "metadata": {},
   "source": [
    "# Conda  environment"
   ]
  },
  {
   "cell_type": "markdown",
   "metadata": {},
   "source": [
    "<div class=\"alert alert-block alert-danger\">\n",
    "<b>Important:</b> Use python 3.6 and pandas 0.24.\n",
    "</div>"
   ]
  },
  {
   "cell_type": "markdown",
   "metadata": {},
   "source": [
    "```\n",
    "conda create -n mutfootprints python=3.6 \n",
    "\n",
    "conda install pandas=0.24 numpy scipy scikit-learn matplotlib ucsc-bigwigtobedgraph bcftools samtools seaborn pybedtools bgreference tqdm dill jupyter perl bcftools bowtie2 xlrd click bgvep\n",
    "\n",
    "conda install -c r r r-rcolorbrewer r-boot r-devtools\n",
    "\n",
    "conda install -c bioconda bioconductor-variantannotation  r-deconstructsigs \n",
    "\n",
    "conda install -c pyviz holoviews\n",
    "```"
   ]
  },
  {
   "cell_type": "markdown",
   "metadata": {},
   "source": [
    "The GenomeInfoDbData and BSgenome library had to be installed by command line as the conda packages was not recognized by the \n",
    "Rscript binary.\n",
    "```R\n",
    "if (!requireNamespace(\"BiocManager\", quietly = TRUE))\n",
    "    install.packages(\"BiocManager\")\n",
    "\n",
    "BiocManager::install(\"GenomeInfoDbData\")\n",
    "BiocManager::install(\"BSgenome.Hsapiens.UCSC.hg19\")\n",
    "\n",
    "```"
   ]
  },
  {
   "cell_type": "markdown",
   "metadata": {},
   "source": [
    "```R \n",
    "install.packages('knitr')\n",
    "install.packages('rmarkdown')\n",
    "BiocManager::install(\"BiocStyle\")\n",
    "devtools::install_github(\"nicolaroberts/hdp\", build_vignettes = TRUE)\n",
    "```"
   ]
  },
  {
   "cell_type": "markdown",
   "metadata": {},
   "source": [
    "# Annovar"
   ]
  },
  {
   "cell_type": "markdown",
   "metadata": {},
   "source": [
    "1) Create the `external_software` directory:\n",
    "```Bash\n",
    "mkdir src/external_software/\n",
    "```\n",
    "\n",
    "1) Download [ANNOVAR](http://annovar.openbioinformatics.org/en/latest/user-guide/download/)  and extract `annovar.latest.tar.gz` in `src/external_software/`\n",
    "\n",
    "2) Download the databases ANNOVAR will need (it takes a while):\n",
    "\n",
    "```Bash\n",
    "cd src/external_software/annovar/\n",
    "perl annotate_variation.pl -downdb wgEncodeGencodeBasicV19 humandb/ -build hg19\n",
    "\n",
    "perl annotate_variation.pl -downdb -buildver hg19 -webfrom annovar dbnsfp35c humandb/\n",
    "\n",
    "perl annotate_variation.pl -downdb -build hg19 seq humandb/hg19_seq/\n",
    "\n",
    "perl retrieve_seq_from_fasta.pl -format genericGene -seqdir humandb/hg19_seq/ -outfile humandb/hg19_wgEncodeGencodeBasicV19Mrna.fa humandb/hg19_wgEncodeGencodeBasicV19.txt \n",
    "```"
   ]
  },
  {
   "cell_type": "markdown",
   "metadata": {},
   "source": [
    "# SignatureAnalyzer"
   ]
  },
  {
   "cell_type": "markdown",
   "metadata": {
    "collapsed": true
   },
   "source": [
    "The SignatureAnalyzer method was downloaded from the [Broad Institute](https://software.broadinstitute.org/cancer/cga/msp)\n",
    "\n",
    "The main script was slightly modified (for example by changing the TEMPORARY location), and can be found in:\n",
    "\n",
    "`src/external_software/SignatureAnalyzer/SignatureAnalyzer.PCAWG.function.R`\n"
   ]
  },
  {
   "cell_type": "markdown",
   "metadata": {},
   "source": [
    "# SigProfilerJulia\n",
    "\n",
    "\n",
    "Please git clone the [SigProfilerJulia](https://bitbucket.org/bbglab/sigprofilerjulia/) repository and follow the instructions to use SigProfilerJulia. \n",
    "\n"
   ]
  }
 ],
 "metadata": {
  "kernelspec": {
   "display_name": "Python [conda env:mutfootprints]",
   "language": "python",
   "name": "conda-env-mutfootprints-py"
  },
  "language_info": {
   "codemirror_mode": {
    "name": "ipython",
    "version": 3
   },
   "file_extension": ".py",
   "mimetype": "text/x-python",
   "name": "python",
   "nbconvert_exporter": "python",
   "pygments_lexer": "ipython3",
   "version": "3.7.3"
  },
  "pycharm": {
   "stem_cell": {
    "cell_type": "raw",
    "metadata": {
     "collapsed": false
    },
    "source": []
   }
  },
  "toc": {
   "nav_menu": {},
   "number_sections": true,
   "sideBar": true,
   "skip_h1_title": false,
   "title_cell": "Table of Contents",
   "title_sidebar": "Contents",
   "toc_cell": false,
   "toc_position": {},
   "toc_section_display": true,
   "toc_window_display": false
  }
 },
 "nbformat": 4,
 "nbformat_minor": 2
}
