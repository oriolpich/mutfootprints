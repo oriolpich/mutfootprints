{
 "cells": [
  {
   "cell_type": "markdown",
   "metadata": {},
   "source": [
    "<div class=\"alert alert-block alert-warning\">\n",
    "<b>Warning:</b>\n",
    " To successfuly run these analyses you should run the following notebooks before:\n",
    "</div>\n",
    "\n",
    "- [preprocessing](http://nbviewer.jupyter.org/urls/bitbucket.org/bbglab/mutfootprints/raw/master/preprocessing_data.ipynb)\n",
    "\n",
    "- [formating and annotating](http://nbviewer.jupyter.org/urls/bitbucket.org/bbglab/mutfootprints/raw/master/formatting_and_annotating.ipynb)\n",
    "\n",
    "- [signature extraction](http://nbviewer.jupyter.org/urls/bitbucket.org/bbglab/mutfootprints/raw/master/signature_extraction.ipynb)\n",
    "\n",
    "- [regression](http://nbviewer.jupyter.org/urls/bitbucket.org/bbglab/mutfootprints/raw/master/regression.ipynb)"
   ]
  },
  {
   "cell_type": "markdown",
   "metadata": {},
   "source": [
    "# Running MutationTime"
   ]
  },
  {
   "cell_type": "markdown",
   "metadata": {},
   "source": [
    "Create a dictionary with paths that will be used afterwards. Check the script and change the location to where you have downloaded the *purple.cnv files\n",
    "\n",
    "\n",
    "```Bash\n",
    "python src/timing/cna_file_mapping.py\n",
    "\n",
    "```"
   ]
  },
  {
   "cell_type": "markdown",
   "metadata": {},
   "source": [
    "Calculate subclonal population based on a simple clustering in order to run MutationalTime.R. We explore a purity range to maximize having the clonal population centered in a CCF of 1. If no clear structure is found, the sample will be blacklisted. The script is run at sample-level. Example:\n",
    "\n",
    "```Bash\n",
    "python src/timing/clustering_ccf.py \\\n",
    "--mutation-file <MUTATION_FILE> \\\n",
    "--outpath <OUTPUT_FOLDER>\n",
    "```"
   ]
  },
  {
   "cell_type": "markdown",
   "metadata": {},
   "source": [
    " Add the CNA status and format the file for MutationTime.R. The script is run at sample-level. Example:\n",
    " \n",
    "```Bash\n",
    "python src/timing/cnas_ccf.py \\\n",
    "--mutation-file <MUTATION_FILE> \\\n",
    "--outpath <OUTPUT_FOLDER>\n",
    "```"
   ]
  },
  {
   "cell_type": "markdown",
   "metadata": {},
   "source": [
    "Run MutationTime.R for all the samples not in the blacklist. This is also run at sample-level. Example:\n",
    "\n",
    "```Bash\n",
    "Rscript src/timing/run_MutationTime.R <MUTATION_FILE>\n",
    "```"
   ]
  },
  {
   "cell_type": "markdown",
   "metadata": {},
   "source": [
    "# Merge MutationTime results"
   ]
  },
  {
   "cell_type": "markdown",
   "metadata": {},
   "source": [
    "```Bash\n",
    "python src/timing/merge_mutationaltimer_results.py \\\n",
    "--input-file <INPUT_FILE> \\ \n",
    "--outpath <OUTPUT_FOLDER>\n",
    "```"
   ]
  },
  {
   "cell_type": "markdown",
   "metadata": {},
   "source": [
    "For instance:"
   ]
  },
  {
   "cell_type": "code",
   "execution_count": null,
   "metadata": {
    "collapsed": true
   },
   "outputs": [],
   "source": [
    "%%bash\n",
    "\n",
    "python src/timing/merge_mutationaltimer_results.py \\\n",
    "--input_file \"data/hartwig/timing/*.mutationaltiming.tsv.gz\" \n",
    "--outpath data/hartwig/timing/merged"
   ]
  },
  {
   "cell_type": "markdown",
   "metadata": {
    "collapsed": true
   },
   "source": [
    "# Maximum likelihood"
   ]
  },
  {
   "cell_type": "markdown",
   "metadata": {},
   "source": [
    "We then will  assign a maximum likelihood to each mutation to belong to a mutational signature. This is done for all post-processed extractions:\n",
    "\n",
    "**SignatureAnalyzer:**\n",
    "```\n",
    "python src/signatures/maximum_likelihood_assignment.py data/hartwig/timing/merged/Pan.snvs.gz data/hartwig/signatures/extraction/results/SignatureAnalyzer/snvs/processes/Pan_full/Pan_full.processes.tsv data/hartwig/timing/merged/ML/SignatureAnalyzer/\n",
    "\n",
    "python src/signatures/maximum_likelihood_assignment.py data/hartwig/timing/merged/Pan.dbs.gz data/hartwig//signatures/extraction/results/SignatureAnalyzer/dbs/processes/Pan/Pan.processes.tsv\n",
    "data/hartwig/timing/merged/ML/SignatureAnalyzer/\n",
    "\n",
    "python src/signatures/maximum_likelihood_assignment.py data/hartwig/timing/merged/Pan.indels.gz data/hartwig//signatures/extraction/results/SignatureAnalyzer/indels/processes/Pan/Pan.processes.tsv data/hartwig/timing/merged/ML/SignatureAnalyzer/\n",
    "```\n",
    "\n",
    "**SigProfiler:**\n",
    "```\n",
    "python src/signatures/maximum_likelihood_assignment.py data/hartwig/timing/merged/Pan.snvs.gz data/hartwig/signatures/extraction/results/SigProfiler/snvs/processes/PanNoSkinNoUnknown.snvs/PanNoSkinNoUnknown.snvs.processes.tsv data/hartwig/timing/merged/ML/SigProfiler/\n",
    "\n",
    "python src/signatures/maximum_likelihood_assignment.py data/hartwig/timing/merged/Pan.dbs.gz data/hartwig/signatures/extraction/results/SigProfiler/dbs/processes/PanNoSkinNoUnknown.dbs/PanNoSkinNoUnknown.dbs.processes.tsv data/hartwig/timing/merged/ML/SigProfiler/\n",
    "\n",
    "python src/signatures/maximum_likelihood_assignment.py data/hartwig/timing/merged/Pan.indels.gz data/hartwig/signatures/extraction/results/SigProfiler/indels/processes/PanNoSkinNoUnknown.indels/PanNoSkinNoUnknown.indels.processes.tsv data/hartwig/timing/merged/ML/SigProfiler/\n",
    "```"
   ]
  },
  {
   "cell_type": "markdown",
   "metadata": {},
   "source": [
    "# Plot early/late, clonal/subclonal"
   ]
  },
  {
   "cell_type": "code",
   "execution_count": null,
   "metadata": {
    "collapsed": true
   },
   "outputs": [],
   "source": [
    "%%bash\n",
    "\n",
    "# This will generate Figure 4A, 4B and EDF 6B, 6C\n",
    "python src/timing/clonality_analysis.py "
   ]
  },
  {
   "cell_type": "markdown",
   "metadata": {},
   "source": [
    "\n"
   ]
  }
 ],
 "metadata": {
  "kernelspec": {
   "display_name": "Python [conda env:mutfootprints]",
   "language": "python",
   "name": "conda-env-mutfootprints-py"
  },
  "language_info": {
   "codemirror_mode": {
    "name": "ipython",
    "version": 3
   },
   "file_extension": ".py",
   "mimetype": "text/x-python",
   "name": "python",
   "nbconvert_exporter": "python",
   "pygments_lexer": "ipython3",
   "version": "3.7.3"
  },
  "toc": {
   "nav_menu": {},
   "number_sections": true,
   "sideBar": true,
   "skip_h1_title": false,
   "title_cell": "Table of Contents",
   "title_sidebar": "Contents",
   "toc_cell": false,
   "toc_position": {},
   "toc_section_display": true,
   "toc_window_display": false
  }
 },
 "nbformat": 4,
 "nbformat_minor": 2
}
