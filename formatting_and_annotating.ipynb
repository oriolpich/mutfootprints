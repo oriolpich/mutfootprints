{
 "cells": [
  {
   "cell_type": "markdown",
   "metadata": {},
   "source": [
    "<div class=\"alert alert-block alert-warning\">\n",
    "<b>Warning:</b>\n",
    " To successfuly run these analyses you should run the following notebooks before:\n",
    "</div>\n",
    "\n",
    "- [preprocessing](http://nbviewer.jupyter.org/urls/bitbucket.org/bbglab/mutfootprints/raw/master/preprocessing_data.ipynb)"
   ]
  },
  {
   "cell_type": "markdown",
   "metadata": {},
   "source": [
    "# Hartwig data"
   ]
  },
  {
   "cell_type": "markdown",
   "metadata": {},
   "source": [
    "Remember that the Hartwig data has to be downloaded and it is not provided in our repository"
   ]
  },
  {
   "cell_type": "markdown",
   "metadata": {},
   "source": [
    "## Left-annotate all vcf files"
   ]
  },
  {
   "cell_type": "markdown",
   "metadata": {},
   "source": [
    "run `src/format/left_annotate.sh` per each of the sample files. For example:\n",
    "\n",
    "```\n",
    "\n",
    "bash src/format/left_annotate/left_annotate.sh $PATH_TO_HARTWIG/$SAMPLE1_post_processed.vcf.gz data/hartwig/\n",
    "\n",
    "\n",
    "```\n",
    "\n",
    "Where PATH_TO_HARTWIG is where you have downloaded the Hartwig data and SAMPLE1 one specific sample in the cohort."
   ]
  },
  {
   "cell_type": "markdown",
   "metadata": {},
   "source": [
    "## Formatting the variants"
   ]
  },
  {
   "cell_type": "markdown",
   "metadata": {},
   "source": [
    "The script `src/format/format_hartwig_variants.py` will get only mappable mutations and extract the number of reads supporting the reference and alternate, as well as the copy number status."
   ]
  },
  {
   "cell_type": "markdown",
   "metadata": {},
   "source": [
    "Example:\n",
    "\n",
    "```\n",
    "python src/format/format_hartwig_variants.py data/hartwig/samples/$SAMPLE1/$SAMPLE1.la.vcf.gz  $PATH_TO_HARTWIG/$SAMPLE1.purple.cnv $PATH_TO_HARTWIG/$SAMPLE1.purple.purity data/hartwig/samples/$SAMPLE1/$SAMPLE1.muts.tsv.gz\n",
    "```\n",
    "\n",
    "Where PATH_TO_HARTWIG is where you have downloaded the Hartwig data and SAMPLE1 one specific sample in the cohort."
   ]
  },
  {
   "cell_type": "markdown",
   "metadata": {},
   "source": [
    "## Merging the samples"
   ]
  },
  {
   "cell_type": "markdown",
   "metadata": {},
   "source": [
    "The script will merge the samples according to the tumor type or hypermutation status, which is defined in the script."
   ]
  },
  {
   "cell_type": "markdown",
   "metadata": {},
   "source": [
    "```\n",
    "python src/format/merge_hartwig_cohort.py \"data/hartwig/samples/*/*.muts.tsv.gz\" data/hartwig/origin/\n",
    "```"
   ]
  },
  {
   "cell_type": "markdown",
   "metadata": {},
   "source": [
    "## Annotating the samples"
   ]
  },
  {
   "cell_type": "markdown",
   "metadata": {},
   "source": [
    "Coding variants are annotated using Annovar. "
   ]
  },
  {
   "cell_type": "markdown",
   "metadata": {},
   "source": [
    "```\n",
    "bash src/format/annotation/annotation_annovar.sh $PATH_TO_HARTWIG/SAMPLE_post_processed.vcf.gz data/hartwig/samples/annotation\n",
    "```\n",
    "\n",
    "Where PATH_TO_HARTWIG is where you have downloaded the Hartwig data and SAMPLE1 one specific sample in the cohort."
   ]
  }
 ],
 "metadata": {
  "kernelspec": {
   "display_name": "Python [conda env:mutfootprints]",
   "language": "python",
   "name": "conda-env-mutfootprints-py"
  },
  "language_info": {
   "codemirror_mode": {
    "name": "ipython",
    "version": 3
   },
   "file_extension": ".py",
   "mimetype": "text/x-python",
   "name": "python",
   "nbconvert_exporter": "python",
   "pygments_lexer": "ipython3",
   "version": "3.7.3"
  },
  "toc": {
   "nav_menu": {},
   "number_sections": true,
   "sideBar": true,
   "skip_h1_title": false,
   "title_cell": "Table of Contents",
   "title_sidebar": "Contents",
   "toc_cell": false,
   "toc_position": {},
   "toc_section_display": true,
   "toc_window_display": false
  }
 },
 "nbformat": 4,
 "nbformat_minor": 2
}
