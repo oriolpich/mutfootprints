{
 "cells": [
  {
   "cell_type": "markdown",
   "metadata": {},
   "source": [
    "<div class=\"alert alert-block alert-warning\">\n",
    "<b>Warning:</b>\n",
    " To successfuly run these analyses you should run the following notebooks before:\n",
    "</div>\n",
    "\n",
    "- [preprocessing](http://nbviewer.jupyter.org/urls/bitbucket.org/bbglab/mutfootprints/raw/master/preprocessing_data.ipynb)\n",
    "\n",
    "- [formating and annotating](http://nbviewer.jupyter.org/urls/bitbucket.org/bbglab/mutfootprints/raw/master/formatting_and_annotating.ipynb)"
   ]
  },
  {
   "cell_type": "markdown",
   "metadata": {},
   "source": [
    "# Create the matrix input for signature extraction\n",
    "\n",
    "We should run the `script src/signatures/prepare_matrix_extraction.py` for each of the merged cohorts. This will generate matrices for snvs, indels and dbs. Specifically, it generates;\n",
    "\n",
    "- 1536 channels (COMPOSITE in PCAWG Signatures publication)\n",
    "- 96 SNV\n",
    "- 86 indels\n",
    "- 72 DBS\n",
    "\n",
    "Then it generates the same but taking into account replication and transcription (thus doubling the amount of channels)\n",
    "\n",
    "The script can be run as follow:\n",
    "```Python\n",
    "python src/signatures/prepare_matrix_extraction.py -c <MERGED_COHORT> -o <OUTPUT_DIRECTORY>\n",
    "```\n"
   ]
  },
  {
   "cell_type": "markdown",
   "metadata": {},
   "source": [
    "# Download PCAWG canonical signatures \n",
    "\n",
    "The set of PCAWG signatures and its postprocessing are already included in the repository. Nevertheless, if you want to reproduce what we did in the paper, follow these instructions.\n",
    "\n",
    "The set of signatures can be obtained from [Synapse](https://www.synapse.org/#!Synapse:syn12025148).\n",
    "Our set was the version from `_2018_03_28`. \n",
    "\n",
    "Then run \n",
    "```\n",
    "python src/signatures/sign_utils/sort_index_signatures.py\n",
    "```\n",
    "\n",
    "to postprocess some of the files and make them compatible for downstream analyses"
   ]
  },
  {
   "cell_type": "markdown",
   "metadata": {},
   "source": [
    "# Run both extraction methods"
   ]
  },
  {
   "cell_type": "markdown",
   "metadata": {},
   "source": [
    "## SigProfilerJulia\n",
    "\n",
    "SigProfiler_Julia can be run as follows:\n",
    "\n",
    "```Bash\n",
    "$PATH_TO_JULIA/julia $PATH_TO_SIGPROFILER/SigProfilerJulia.jl -f data/hartwig/signatures/matrix/PanNoSkinNoUnknown.dbs.dlm -s 2 -m 7 -i 1024 --workers 400 --outpath data/signature_extraction/SigProfiler/ --slurm\n",
    "\n",
    "```\n",
    "Where \\$PATH_TO_JULIA is the location of the julia binary, and \\$PATH_TO_SIGPROFILER is where SigProfilerJulia has been cloned. Please see [SigProfilerJulia](https://bitbucket.org/bbglab/sigprofilerjulia/) repository for more details.\n",
    "\n",
    "---\n"
   ]
  },
  {
   "cell_type": "markdown",
   "metadata": {},
   "source": [
    "## SignatureAnalyzer\n",
    "\n",
    "This script can be run as follows : \n",
    "\n",
    "```R\n",
    "Rscript src/signatures/signature_analyzer_sender.R data/signatures/PanNotHypermutated_full.snvs.dlm 70 data/signature_extraction/SignatureAnalyzer/ PAN\n",
    "```\n",
    "\n",
    "Where the first parameter is the matrix, the second is the maximum number of signatures allowed, the third is the outpath and the last one defines the parameter \"tolerance\" (with PAN meaning more relaxed). Please be aware that if \"NotHypermutated\" is found in the file name, the script will try to locate the Hypermutated file too and do a similar processing as explained in the PCAWG publication.\n",
    "Also please note that **the script will try to use all the CPUs allocated to your job.**\n",
    "\n",
    "---\n"
   ]
  },
  {
   "cell_type": "markdown",
   "metadata": {
    "collapsed": true
   },
   "source": [
    "# Postprocessing"
   ]
  },
  {
   "cell_type": "markdown",
   "metadata": {},
   "source": [
    "The postprocessing of the signatures calculated by SigProfiler and SygnatureAnalyzer is done by the following scripts:"
   ]
  },
  {
   "cell_type": "code",
   "execution_count": null,
   "metadata": {
    "collapsed": true
   },
   "outputs": [],
   "source": [
    "%%bash\n",
    "\n",
    "#SignatureAnalyzer\n",
    "python src/signatures/signatureanalyzer_postprocess.py \\\n",
    "-i 'data/hartwig/signatures/extraction/SignatureAnalyzer/' \\\n",
    "-o 'data/hartwig/signatures/extraction/results/SignatureAnalyzer/'"
   ]
  },
  {
   "cell_type": "code",
   "execution_count": null,
   "metadata": {
    "collapsed": true
   },
   "outputs": [],
   "source": [
    "%%bash\n",
    "\n",
    "#SigProfiler\n",
    "python src/signatures/sigprofiler_postprocess.py"
   ]
  },
  {
   "cell_type": "markdown",
   "metadata": {},
   "source": [
    "The above commands will generate the mutational spectra for each of the signatures extracted, and will locate all the results in ```data/hartwig/signatures/extraction/results/ by default```"
   ]
  },
  {
   "cell_type": "markdown",
   "metadata": {},
   "source": [
    "# Other figures"
   ]
  },
  {
   "cell_type": "code",
   "execution_count": null,
   "metadata": {
    "collapsed": true
   },
   "outputs": [],
   "source": [
    "%%bash\n",
    "\n",
    "#Supplementary Note Figure 2\n",
    "python src/signatures/sign_utils/plot_dots_signatures.py\n",
    "\n",
    "#Extended Data Figure 2\n",
    "python src/signatures/sign_utils/asymmetry_signature_analysis.py"
   ]
  },
  {
   "cell_type": "markdown",
   "metadata": {},
   "source": [
    "# Hierarchical Dirichlet Process extraction"
   ]
  },
  {
   "cell_type": "code",
   "execution_count": null,
   "metadata": {
    "collapsed": true
   },
   "outputs": [],
   "source": [
    "%%bash\n",
    "\n",
    "bash src/signatures/sign_utils/HDP_pipeline.sh"
   ]
  }
 ],
 "metadata": {
  "kernelspec": {
   "display_name": "Python [conda env:mutfootprints]",
   "language": "python",
   "name": "conda-env-mutfootprints-py"
  },
  "language_info": {
   "codemirror_mode": {
    "name": "ipython",
    "version": 3
   },
   "file_extension": ".py",
   "mimetype": "text/x-python",
   "name": "python",
   "nbconvert_exporter": "python",
   "pygments_lexer": "ipython3",
   "version": "3.7.3"
  },
  "toc": {
   "nav_menu": {},
   "number_sections": true,
   "sideBar": true,
   "skip_h1_title": false,
   "title_cell": "Table of Contents",
   "title_sidebar": "Contents",
   "toc_cell": false,
   "toc_position": {},
   "toc_section_display": true,
   "toc_window_display": false
  }
 },
 "nbformat": 4,
 "nbformat_minor": 2
}
