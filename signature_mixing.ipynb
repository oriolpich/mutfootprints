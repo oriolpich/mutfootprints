{
 "cells": [
  {
   "cell_type": "markdown",
   "metadata": {},
   "source": [
    "<div class=\"alert alert-block alert-warning\">\n",
    "<b>Warning:</b>\n",
    " To successfuly run these analyses you should run the following notebooks before:\n",
    "</div>\n",
    "\n",
    "- [preprocessing](http://nbviewer.jupyter.org/urls/bitbucket.org/bbglab/mutfootprints/raw/master/preprocessing_data.ipynb)\n",
    "\n",
    "- [formating and annotating](http://nbviewer.jupyter.org/urls/bitbucket.org/bbglab/mutfootprints/raw/master/formatting_and_annotating.ipynb)\n",
    "\n",
    "- [signature extraction](http://nbviewer.jupyter.org/urls/bitbucket.org/bbglab/mutfootprints/raw/master/signature_extraction.ipynb)\n",
    "\n",
    "- [regression](http://nbviewer.jupyter.org/urls/bitbucket.org/bbglab/mutfootprints/raw/master/regression.ipynb)"
   ]
  },
  {
   "cell_type": "code",
   "execution_count": null,
   "metadata": {
    "collapsed": true
   },
   "outputs": [],
   "source": [
    "%load_ext autoreload\n",
    "%autoreload 2"
   ]
  },
  {
   "cell_type": "code",
   "execution_count": null,
   "metadata": {
    "collapsed": true
   },
   "outputs": [],
   "source": [
    "import os\n",
    "import gzip\n",
    "import pickle\n",
    "import json\n",
    "from itertools import combinations, product\n",
    "\n",
    "import scipy\n",
    "from scipy.spatial.distance import cosine\n",
    "from scipy.optimize import minimize\n",
    "import numpy as np\n",
    "import pandas as pd\n",
    "from sklearn import metrics\n",
    "\n",
    "import matplotlib.pyplot as plt\n",
    "from matplotlib import rc"
   ]
  },
  {
   "cell_type": "code",
   "execution_count": null,
   "metadata": {
    "collapsed": true
   },
   "outputs": [],
   "source": [
    "def plotParam():\n",
    "    \"\"\"\n",
    "    plot parameters\n",
    "    :return:\n",
    "    \"\"\"\n",
    "    plt.rcParams['font.sans-serif'] = ['arial']\n",
    "    plt.rcParams['font.size'] = 14\n",
    "    plt.rcParams['font.family'] = ['sans-serif']\n",
    "    plt.rcParams['svg.fonttype'] = 'none'\n",
    "    plt.rcParams['mathtext.fontset'] = 'custom'\n",
    "    plt.rcParams['mathtext.cal'] = 'arial'\n",
    "    plt.rcParams['mathtext.rm'] = 'arial'\n",
    "\n",
    "plotParam()"
   ]
  },
  {
   "cell_type": "code",
   "execution_count": null,
   "metadata": {
    "collapsed": true
   },
   "outputs": [],
   "source": [
    "from IPython.core.display import display, HTML\n",
    "display(HTML(\"<style>.container { width:100% !important; }</style>\"))"
   ]
  },
  {
   "cell_type": "markdown",
   "metadata": {},
   "source": [
    "#### The following two files loaded as signatures_SA and signatures_SP were retrieved from [Synapse](https://www.synapse.org):\n",
    "\n",
    "\"**SignatureAnalyzer_COMPOSITE_SBS_W96\"** downloaded from [syn11738310](https://www.synapse.org/#!Synapse:syn11738310)\n",
    "\"**sigProfiler_SBS_signatures**\" downloaded from [syn11738319](https://www.synapse.org/#!Synapse:syn11738319)"
   ]
  },
  {
   "cell_type": "code",
   "execution_count": null,
   "metadata": {
    "collapsed": true
   },
   "outputs": [],
   "source": [
    "signatures_SA = pd.read_csv('data/signatures_files/PCAWG/SignatureAnalyzer_COMPOSITE_SBS_W96.signature.031918.txt', sep='\\t')\n",
    "signatures_SP = pd.read_csv('data/signatures_files/PCAWG/sigProfiler_SBS_signatures_2018_03_28.indexed.csv', sep=',')"
   ]
  },
  {
   "cell_type": "markdown",
   "metadata": {},
   "source": [
    "# ChemoMut results"
   ]
  },
  {
   "cell_type": "code",
   "execution_count": null,
   "metadata": {
    "collapsed": true
   },
   "outputs": [],
   "source": [
    "extraction_path = 'data/hartwig/signatures/extraction/results/'\n",
    "sp_proc_path = os.path.join(extraction_path, 'SigProfiler/snvs/processes/PanNoSkinNoUnknown.snvs/PanNoSkinNoUnknown.snvs.processes.tsv')\n",
    "sa_proc_path = os.path.join(extraction_path, 'SignatureAnalyzer/snvs/processes/Pan_full/Pan_full.processes.tsv')\n",
    "sp_exp_path = os.path.join(extraction_path, 'SigProfiler/snvs/exposures/PanNoSkinNoUnknown.snvs/PanNoSkinNoUnknown.snvs.exposures.tsv')\n",
    "sa_exp_path = os.path.join(extraction_path, 'SignatureAnalyzer/snvs/exposures/Pan_full/Pan_full.exposures.tsv')\n",
    "sp_proc_dbs_path = 'data/hartwig/signatures/extraction/results/SigProfiler/dbs/processes/PanNoSkinNoUnknown.dbs/PanNoSkinNoUnknown.dbs.processes.tsv'\n",
    "sa_proc_dbs_path = os.path.join(extraction_path, 'SignatureAnalyzer/dbs/processes/Pan/Pan.processes.tsv')"
   ]
  },
  {
   "cell_type": "code",
   "execution_count": null,
   "metadata": {
    "collapsed": true
   },
   "outputs": [],
   "source": [
    "# load processes\n",
    "\n",
    "sp_proc = pd.read_csv(sp_proc_path, sep='\\t', index_col=0)\n",
    "sa_proc = pd.read_csv(sa_proc_path, sep='\\t', index_col=0)\n",
    "\n",
    "sp_exp = pd.read_csv(sp_exp_path, sep='\\t', index_col=0)\n",
    "sa_exp = pd.read_csv(sa_exp_path, sep='\\t', index_col=0)\n",
    "\n",
    "sig_dict = {\n",
    "    'proc': {'sp': sp_proc, 'sa': sa_proc}, \n",
    "    'exp': {'sp': sp_exp, 'sa': sa_exp}\n",
    "}\n",
    "\n",
    "sp_proc_dbs = pd.read_csv(sp_proc_dbs_path, sep='\\t', index_col=0)\n",
    "sa_proc_dbs = pd.read_csv(sa_proc_dbs_path, sep='\\t', index_col=0)\n",
    "\n",
    "sig_dict_dbs = {'proc': {'sp': sp_proc_dbs, 'sa': sa_proc_dbs}}"
   ]
  },
  {
   "cell_type": "code",
   "execution_count": null,
   "metadata": {
    "collapsed": true
   },
   "outputs": [],
   "source": [
    "columns_sa = set(sig_dict['exp']['sa'].columns)\n",
    "columns_sp = set(sig_dict['exp']['sp'].columns)\n",
    "samples = columns_sa.intersection(columns_sp)\n",
    "\n",
    "Sa = sig_dict['exp']['sa'][samples].values.T\n",
    "Sp = sig_dict['exp']['sp'][samples].values.T\n",
    "\n",
    "index_dict_sa = {v: i for i, v in enumerate(sig_dict['exp']['sa'].index)}\n",
    "index_dict_sp = {v: i for i, v in enumerate(sig_dict['exp']['sp'].index)}"
   ]
  },
  {
   "cell_type": "markdown",
   "metadata": {
    "collapsed": true
   },
   "source": [
    "## Optimization problem\n",
    "\n",
    "Given two signatures $C_1$ and $C_2$ and a target signature $S$, we want to assert whether there is a good convex combination $C(a) = a C_1 + (1-a) C_2$ that approximates well $S$. The following natural constraint must hold: $a \\geq 0$ (positivity). We use the cosine distance $\\cos(C(a), S)$ as approximation criterion."
   ]
  },
  {
   "cell_type": "code",
   "execution_count": null,
   "metadata": {
    "collapsed": true
   },
   "outputs": [],
   "source": [
    "def cosine_objective(c, target):\n",
    "    \"\"\"c: array-like with shape: n_processes x n_channels\"\"\"\n",
    "    \n",
    "    def objective(w):\n",
    "        \n",
    "        comb = np.dot(w, c)\n",
    "        dot_prod = np.dot(comb, target)\n",
    "        cosine = dot_prod / (np.linalg.norm(comb) * np.linalg.norm(target))\n",
    "        return 1 - cosine\n",
    "    \n",
    "    return objective\n",
    "    \n",
    "\n",
    "def weight_optimize(c, target):\n",
    "\n",
    "    n_processes, n_channels = c.shape\n",
    "    obj_func = cosine_objective(c, target)\n",
    "    bnds = [(0, 1) for _ in range(n_processes)]\n",
    "    cons = ({'type': 'eq', 'fun': lambda x:  np.sum(x) - 1})\n",
    "    res = minimize(obj_func, 1/n_processes * np.ones(n_processes), method='SLSQP', bounds=bnds, constraints=cons)\n",
    "    cosine_similarity = 1 - obj_func(res.x)\n",
    "    return res.x, cosine_similarity"
   ]
  },
  {
   "cell_type": "markdown",
   "metadata": {},
   "source": [
    "### a little testing..."
   ]
  },
  {
   "cell_type": "code",
   "execution_count": null,
   "metadata": {
    "collapsed": true
   },
   "outputs": [],
   "source": [
    "# small test\n",
    "\n",
    "c1 = signatures_SP['SBS1'].values\n",
    "c2 = signatures_SP['SBS3'].values\n",
    "c3 = signatures_SP['SBS5'].values\n",
    "a1, a2, a3 = 0.5, 0.3, 0.2  # set weights for target convex combination\n",
    "convex = a1 * c1 + a2 * c2 + a3 * c3\n",
    "c = np.array([c1, c2, c3])"
   ]
  },
  {
   "cell_type": "code",
   "execution_count": null,
   "metadata": {
    "collapsed": true
   },
   "outputs": [],
   "source": [
    "(ahat1, ahat2, ahat3), cosine = weight_optimize(c, convex)"
   ]
  },
  {
   "cell_type": "code",
   "execution_count": null,
   "metadata": {
    "collapsed": true
   },
   "outputs": [],
   "source": [
    "ahat1, ahat2, ahat3"
   ]
  },
  {
   "cell_type": "code",
   "execution_count": null,
   "metadata": {
    "collapsed": true
   },
   "outputs": [],
   "source": [
    "cosine"
   ]
  },
  {
   "cell_type": "markdown",
   "metadata": {},
   "source": [
    "## Utils"
   ]
  },
  {
   "cell_type": "code",
   "execution_count": null,
   "metadata": {
    "collapsed": true
   },
   "outputs": [],
   "source": [
    "def closest_combination(s, n_processes, method='sa'):\n",
    "    \"\"\"\n",
    "    Args\n",
    "        s: mutational profile\n",
    "        n_processes: number of processes allowed to find the best approximation to s\n",
    "    \"\"\"\n",
    "    \n",
    "    pool = np.array(list(sig_dict['proc'][method].columns))\n",
    "    cosine = 0\n",
    "    c = np.empty((n_processes, len(s)))\n",
    "    all_results = []\n",
    "    \n",
    "    print('progress print-out...\\n')\n",
    "    for indices in combinations(range(len(pool)), n_processes):\n",
    "        indices = list(indices)\n",
    "        w, cos = weight_optimize(sig_dict['proc'][method].iloc[:, indices].values.T, s)\n",
    "        cos = np.round(cos, 3)\n",
    "        w = tuple(map(lambda x: np.round(x, 3), w))\n",
    "        all_results.append((list(pool[indices]), w, cos))\n",
    "        if cos > cosine:\n",
    "            cosine = cos\n",
    "            c = np.array(pool[indices])\n",
    "            weights = w\n",
    "            print(cosine, list(c), weights)  # progress print-out: cosine similarity, \n",
    "                                             # candidate components and convex weights\n",
    "\n",
    "    all_results = sorted(all_results, key=lambda x: x[2], reverse=True)\n",
    "    return list(c), weights, cosine, all_results\n",
    "\n",
    "def single_lsq(A, b):\n",
    "    \n",
    "    lb = np.zeros(A.shape[1])  # lower bound\n",
    "    ub = lb + 1    \n",
    "    res = scipy.optimize.lsq_linear(A, b, bounds=(lb, ub))\n",
    "    return res.x / np.sum(res.x)\n",
    "\n",
    "def deconstruct_splits(sp_signature, columns=None):\n",
    "    \n",
    "    if columns is None:\n",
    "        indexes = list(range(Sa.shape[1]))\n",
    "    else:\n",
    "        indexes = [index_dict_sa[c] for c in columns]\n",
    "    j = index_dict_sp[sp_signature]\n",
    "    x = single_lsq(Sa[:, indexes], Sp[:, j])\n",
    "    return x"
   ]
  },
  {
   "cell_type": "markdown",
   "metadata": {},
   "source": [
    "### a little testing..."
   ]
  },
  {
   "cell_type": "code",
   "execution_count": null,
   "metadata": {
    "collapsed": true
   },
   "outputs": [],
   "source": [
    "weights = deconstruct_splits('1_SBS31_0.968153_0.98', columns=['14_1', '21_SBS31_0.953955_1'])"
   ]
  },
  {
   "cell_type": "code",
   "execution_count": null,
   "metadata": {
    "collapsed": true
   },
   "outputs": [],
   "source": [
    "weights[0], weights[1]"
   ]
  },
  {
   "cell_type": "markdown",
   "metadata": {},
   "source": [
    "## What are the combinations of two sa-signatures that best explain a given sp-signature?"
   ]
  },
  {
   "cell_type": "code",
   "execution_count": null,
   "metadata": {
    "collapsed": true
   },
   "outputs": [],
   "source": [
    "# what are the available SP targets?\n",
    "\n",
    "sig_dict['proc']['sp'].keys().tolist()"
   ]
  },
  {
   "cell_type": "code",
   "execution_count": null,
   "metadata": {
    "collapsed": true
   },
   "outputs": [],
   "source": [
    "# SigProfiler SBS31\n",
    "\n",
    "target_label = '1_SBS31_0.968153_0.98'\n",
    "sig = sig_dict['proc']['sp'][target_label].values\n",
    "c, weights, cosine, all_results = closest_combination(sig, 2, method='sa')"
   ]
  },
  {
   "cell_type": "code",
   "execution_count": null,
   "metadata": {
    "collapsed": true
   },
   "outputs": [],
   "source": [
    "# SigProfiler SBS20\n",
    "\n",
    "target_label = '20_0.92'\n",
    "sig = sig_dict['proc']['sp'][target_label].values\n",
    "c, weights, cosine, all_results = closest_combination(sig, 2, method='sa')"
   ]
  },
  {
   "cell_type": "markdown",
   "metadata": {},
   "source": [
    "### plot utils"
   ]
  },
  {
   "cell_type": "code",
   "execution_count": null,
   "metadata": {
    "collapsed": true
   },
   "outputs": [],
   "source": [
    "# stacked barplot representation\n",
    "\n",
    "def stacked_bar_plot(s1_weights, s2_weights, other_weights, xlabels, title):\n",
    "\n",
    "    bars1 = np.add(s1_weights, s2_weights).tolist()\n",
    "    r = list(range(len(xlabels)))\n",
    "    names = xlabels\n",
    "    barWidth = 0.3\n",
    "\n",
    "    fig, ax = plt.subplots(figsize=(3, 5))\n",
    "    \n",
    "    ax.bar(r, s1_weights, color='green', edgecolor='white', width=barWidth, alpha=0.6)\n",
    "    ax.bar(r, s2_weights, bottom=s1_weights, color='purple', alpha=0.8, edgecolor='white', width=barWidth)\n",
    "    ax.bar(r, other_weights, bottom=bars1, color='grey', edgecolor='white', width=barWidth)\n",
    "    \n",
    "    # remove spines\n",
    "    ax.spines['right'].set_visible(False)\n",
    "    ax.spines['top'].set_visible(False)\n",
    "    \n",
    "    # custom x axis\n",
    "    ax.set_xticks(r)\n",
    "    ax.set_xticklabels(names)\n",
    "    ax.set_xlabel(\"cosine similarity\")\n",
    "    rc('font', weight='bold')\n",
    "    \n",
    "    plt.title(title)"
   ]
  },
  {
   "cell_type": "markdown",
   "metadata": {},
   "source": [
    "### Explanation of E-SBS20"
   ]
  },
  {
   "cell_type": "code",
   "execution_count": null,
   "metadata": {
    "collapsed": true
   },
   "outputs": [],
   "source": [
    "title = 'E-SBS20'\n",
    "xlabels = ['0.85']\n",
    "s14 = [0.433]\n",
    "s37 = [0.567]\n",
    "other = [0]"
   ]
  },
  {
   "cell_type": "code",
   "execution_count": null,
   "metadata": {
    "collapsed": true
   },
   "outputs": [],
   "source": [
    "stacked_bar_plot(s14, s37, other, xlabels, title)"
   ]
  },
  {
   "cell_type": "markdown",
   "metadata": {},
   "source": [
    "### Explanation of E-SBS31"
   ]
  },
  {
   "cell_type": "code",
   "execution_count": null,
   "metadata": {
    "collapsed": true
   },
   "outputs": [],
   "source": [
    "title = 'E-SBS31'\n",
    "xlabels = ['0.97']\n",
    "s14 = [0.295]\n",
    "s21 = [0.705]\n",
    "other = [0]"
   ]
  },
  {
   "cell_type": "code",
   "execution_count": null,
   "metadata": {
    "collapsed": true
   },
   "outputs": [],
   "source": [
    "stacked_bar_plot(s14, s21, other, xlabels, title)"
   ]
  },
  {
   "cell_type": "markdown",
   "metadata": {},
   "source": [
    "## doublets"
   ]
  },
  {
   "cell_type": "code",
   "execution_count": null,
   "metadata": {
    "collapsed": true
   },
   "outputs": [],
   "source": [
    "res_sigprofiler_dbs = pd.read_csv(sp_proc_dbs_path, sep='\\t', index_col=0)\n",
    "res_siganalyzer_dbs = pd.read_csv(sa_proc_dbs_path, sep='\\t', index_col=0)\n",
    "sig_dbs_dict = {'sp': res_sigprofiler_dbs, 'sa': res_siganalyzer_dbs}"
   ]
  },
  {
   "cell_type": "code",
   "execution_count": null,
   "metadata": {
    "collapsed": true
   },
   "outputs": [],
   "source": [
    "def closest_dbs_combination(s, method='sa'):\n",
    "    \n",
    "    pool = sig_dbs_dict[method].columns\n",
    "    cosine = 0\n",
    "    c1, c2 = None, None\n",
    "    target = None\n",
    "    all_results = []\n",
    "    for i, j in product(range(len(pool)), repeat=2):\n",
    "        if i < j:\n",
    "            c = np.array([sig_dbs_dict[method].iloc[:,i].values, sig_dbs_dict[method].iloc[:,j].values])\n",
    "            w, cos = weight_optimize(c, s)\n",
    "            cos = np.round(cos, 3)\n",
    "            w = tuple(map(lambda x: np.round(x, 3), w))\n",
    "            all_results.append((pool[i], pool[j], w, cos))\n",
    "            if cos > cosine:\n",
    "                cosine = cos\n",
    "                c1, c2 = pool[i], pool[j]\n",
    "                weights = w\n",
    "    all_results = sorted(all_results, key=lambda x: x[3], reverse=True)\n",
    "    return c1, c2, weights, cosine, all_results"
   ]
  },
  {
   "cell_type": "code",
   "execution_count": null,
   "metadata": {
    "collapsed": true
   },
   "outputs": [],
   "source": [
    "target_label = '5_DBS5_0.944431_1.0'\n",
    "sig = sig_dbs_dict['sp'][target_label].values\n",
    "c1, c2, weights, cosine, all_results = closest_dbs_combination(sig, method='sa')"
   ]
  },
  {
   "cell_type": "code",
   "execution_count": null,
   "metadata": {
    "collapsed": true
   },
   "outputs": [],
   "source": [
    "c1, c2, weights, cosine"
   ]
  },
  {
   "cell_type": "markdown",
   "metadata": {},
   "source": [
    "### Explanation of DBS5"
   ]
  },
  {
   "cell_type": "code",
   "execution_count": null,
   "metadata": {
    "collapsed": true
   },
   "outputs": [],
   "source": [
    "title = 'E-DBS5'\n",
    "xlabels = ['0.99']\n",
    "s3 = [0.358]\n",
    "s9 = [0.642]\n",
    "other = [0]"
   ]
  },
  {
   "cell_type": "code",
   "execution_count": null,
   "metadata": {
    "collapsed": true
   },
   "outputs": [],
   "source": [
    "stacked_bar_plot(s3, s9, other, xlabels, title)"
   ]
  }
 ],
 "metadata": {
  "kernelspec": {
   "display_name": "Python [conda env:mutfootprints]",
   "language": "python",
   "name": "conda-env-mutfootprints-py"
  },
  "language_info": {
   "codemirror_mode": {
    "name": "ipython",
    "version": 3
   },
   "file_extension": ".py",
   "mimetype": "text/x-python",
   "name": "python",
   "nbconvert_exporter": "python",
   "pygments_lexer": "ipython3",
   "version": "3.7.3"
  },
  "toc": {
   "nav_menu": {},
   "number_sections": true,
   "sideBar": true,
   "skip_h1_title": false,
   "title_cell": "Table of Contents",
   "title_sidebar": "Contents",
   "toc_cell": false,
   "toc_position": {},
   "toc_section_display": true,
   "toc_window_display": false
  }
 },
 "nbformat": 4,
 "nbformat_minor": 2
}
